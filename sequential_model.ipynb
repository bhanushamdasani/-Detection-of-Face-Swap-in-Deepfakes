{
  "nbformat": 4,
  "nbformat_minor": 0,
  "metadata": {
    "colab": {
      "provenance": [],
      "gpuType": "T4"
    },
    "kernelspec": {
      "name": "python3",
      "display_name": "Python 3"
    },
    "language_info": {
      "name": "python"
    },
    "accelerator": "GPU"
  },
  "cells": [
    {
      "cell_type": "code",
      "execution_count": 1,
      "metadata": {
        "colab": {
          "base_uri": "https://localhost:8080/"
        },
        "id": "yxumf3zr4Ocz",
        "outputId": "21cc5514-70f2-4230-c87a-ece3f1b7a9f8"
      },
      "outputs": [
        {
          "output_type": "stream",
          "name": "stdout",
          "text": [
            "Found 2800 files belonging to 2 classes.\n",
            "Found 800 files belonging to 2 classes.\n",
            "Found 400 files belonging to 2 classes.\n",
            "Downloading data from https://storage.googleapis.com/keras-applications/efficientnetb0_notop.h5\n",
            "\u001b[1m16705208/16705208\u001b[0m \u001b[32m━━━━━━━━━━━━━━━━━━━━\u001b[0m\u001b[37m\u001b[0m \u001b[1m0s\u001b[0m 0us/step\n"
          ]
        }
      ],
      "source": [
        "import os\n",
        "import numpy as np\n",
        "import tensorflow as tf\n",
        "from tensorflow import keras\n",
        "from tensorflow.keras import layers\n",
        "from tensorflow.keras.preprocessing import image_dataset_from_directory\n",
        "from tensorflow.keras.models import load_model\n",
        "from sklearn.utils.class_weight import compute_class_weight\n",
        "from sklearn.metrics import classification_report, confusion_matrix\n",
        "import cv2\n",
        "import albumentations as A\n",
        "from tqdm import tqdm\n",
        "import matplotlib.pyplot as plt\n",
        "\n",
        "tf.keras.backend.clear_session()\n",
        "\n",
        "# Define preprocessing transformation\n",
        "transform = A.Compose([\n",
        "    A.Resize(224, 224),\n",
        "    A.HorizontalFlip(p=0.5),\n",
        "    A.Rotate(limit=10, p=0.5),\n",
        "    A.RandomBrightnessContrast(p=0.3),\n",
        "    A.ColorJitter(brightness=0.2, contrast=0.2, saturation=0.2, hue=0.05, p=0.3),\n",
        "])\n",
        "\n",
        "# Function to preprocess an image\n",
        "def preprocess_image(image_path):\n",
        "    img = cv2.imread(image_path)\n",
        "    if img is None:\n",
        "        raise ValueError(f\"Error: Could not load image at {image_path}\")\n",
        "    img = cv2.cvtColor(img, cv2.COLOR_BGR2RGB)\n",
        "    img = transform(image=img)[\"image\"]\n",
        "    img = img.astype(np.float32) / 255.0\n",
        "    return np.expand_dims(img, axis=0)\n",
        "\n",
        "# Data Directories\n",
        "train_dir = \"/content/drive/MyDrive/Major_Project/processed_dataset/train\"\n",
        "val_dir = \"/content/drive/MyDrive/Major_Project/processed_dataset/val\"\n",
        "test_dir = \"/content/drive/MyDrive/Major_Project/processed_dataset/test\"\n",
        "\n",
        "IMG_SIZE = (224, 224)\n",
        "BATCH_SIZE = 8\n",
        "\n",
        "def load_dataset(directory):\n",
        "    return image_dataset_from_directory(\n",
        "        directory, image_size=IMG_SIZE, batch_size=BATCH_SIZE, label_mode='binary'\n",
        "    )\n",
        "\n",
        "train_dataset = load_dataset(train_dir)\n",
        "val_dataset = load_dataset(val_dir)\n",
        "test_dataset = load_dataset(test_dir)\n",
        "\n",
        "# Compute Class Weights (Fix applied)\n",
        "y_train = np.concatenate([y.numpy().flatten() for _, y in train_dataset])\n",
        "class_weights = compute_class_weight(class_weight='balanced', classes=np.unique(y_train), y=y_train)\n",
        "class_weights = {i: w for i, w in enumerate(class_weights)}\n",
        "\n",
        "# EfficientNet Model\n",
        "base_model = tf.keras.applications.EfficientNetB0(\n",
        "    weights=\"imagenet\", include_top=False, input_shape=(224, 224, 3)\n",
        ")\n",
        "base_model.trainable = True\n",
        "x = base_model.output\n",
        "x = layers.GlobalAveragePooling2D()(x)\n",
        "efficientnet_output = layers.Dense(512, activation=\"relu\")(x)\n",
        "\n",
        "# U-Net Model\n",
        "def build_unet(input_shape=(224, 224, 3)):\n",
        "    inputs = layers.Input(shape=input_shape)\n",
        "    x = layers.Conv2D(64, (3, 3), activation=\"relu\", padding=\"same\")(inputs)\n",
        "    x = layers.MaxPooling2D((2, 2))(x)\n",
        "    x = layers.Conv2DTranspose(64, (3, 3), activation=\"relu\", padding=\"same\")(x)\n",
        "    x = layers.UpSampling2D((2, 2))(x)\n",
        "    x = layers.GlobalAveragePooling2D()(x)\n",
        "    return keras.Model(inputs, x, name=\"U-Net\")\n",
        "\n",
        "unet_model = build_unet()\n",
        "combined_input = layers.Concatenate()([efficientnet_output, unet_model.output])\n",
        "final_output = layers.Dense(1, activation=\"sigmoid\")(combined_input)\n",
        "\n",
        "# Final Model\n",
        "model = keras.Model(inputs=[base_model.input, unet_model.input], outputs=final_output)\n",
        "model.compile(\n",
        "    optimizer=keras.optimizers.Adam(learning_rate=1e-5),\n",
        "    loss=\"binary_crossentropy\",\n",
        "    metrics=[\"accuracy\"]\n",
        ")\n",
        "\n"
      ]
    },
    {
      "cell_type": "code",
      "source": [
        "# Training Preparation\n",
        "def preprocess_dataset(dataset):\n",
        "    images, labels = [], []\n",
        "    for x, y in dataset:\n",
        "        images.append(x.numpy())\n",
        "        labels.append(y.numpy())\n",
        "    return np.concatenate(images), np.concatenate(labels)\n",
        "\n",
        "train_X, train_Y = preprocess_dataset(train_dataset)\n",
        "val_X, val_Y = preprocess_dataset(val_dataset)\n",
        "\n",
        "# Training with Callbacks\n",
        "early_stopping = keras.callbacks.EarlyStopping(monitor=\"val_loss\", patience=3, restore_best_weights=True)\n",
        "model_checkpoint = keras.callbacks.ModelCheckpoint(\"best_model.h5\", save_best_only=True)\n",
        "\n",
        "history = model.fit(\n",
        "    [train_X, train_X], train_Y,\n",
        "    epochs=10,\n",
        "    validation_data=([val_X, val_X], val_Y),\n",
        "    callbacks=[early_stopping, model_checkpoint],\n",
        "    class_weight=class_weights\n",
        ")\n",
        "\n"
      ],
      "metadata": {
        "colab": {
          "base_uri": "https://localhost:8080/"
        },
        "id": "oFLaNt9D9kXB",
        "outputId": "5e48ff13-6fc9-42aa-d8f6-825ea7e11a1e"
      },
      "execution_count": 2,
      "outputs": [
        {
          "output_type": "stream",
          "name": "stdout",
          "text": [
            "Epoch 1/10\n",
            "\u001b[1m88/88\u001b[0m \u001b[32m━━━━━━━━━━━━━━━━━━━━\u001b[0m\u001b[37m\u001b[0m \u001b[1m0s\u001b[0m 626ms/step - accuracy: 0.5050 - loss: 0.7686"
          ]
        },
        {
          "output_type": "stream",
          "name": "stderr",
          "text": [
            "WARNING:absl:You are saving your model as an HDF5 file via `model.save()` or `keras.saving.save_model(model)`. This file format is considered legacy. We recommend using instead the native Keras format, e.g. `model.save('my_model.keras')` or `keras.saving.save_model(model, 'my_model.keras')`. \n"
          ]
        },
        {
          "output_type": "stream",
          "name": "stdout",
          "text": [
            "\b\b\b\b\b\b\b\b\b\b\b\b\b\b\b\b\b\b\b\b\b\b\b\b\b\b\b\b\b\b\b\b\b\b\b\b\b\b\b\b\b\b\b\b\b\b\b\b\b\b\b\b\b\b\b\b\b\b\b\b\b\b\b\b\b\b\b\b\b\b\b\b\b\b\r\u001b[1m88/88\u001b[0m \u001b[32m━━━━━━━━━━━━━━━━━━━━\u001b[0m\u001b[37m\u001b[0m \u001b[1m156s\u001b[0m 812ms/step - accuracy: 0.5053 - loss: 0.7681 - val_accuracy: 0.5050 - val_loss: 0.7396\n",
            "Epoch 2/10\n",
            "\u001b[1m88/88\u001b[0m \u001b[32m━━━━━━━━━━━━━━━━━━━━\u001b[0m\u001b[37m\u001b[0m \u001b[1m0s\u001b[0m 182ms/step - accuracy: 0.6491 - loss: 0.6452"
          ]
        },
        {
          "output_type": "stream",
          "name": "stderr",
          "text": [
            "WARNING:absl:You are saving your model as an HDF5 file via `model.save()` or `keras.saving.save_model(model)`. This file format is considered legacy. We recommend using instead the native Keras format, e.g. `model.save('my_model.keras')` or `keras.saving.save_model(model, 'my_model.keras')`. \n"
          ]
        },
        {
          "output_type": "stream",
          "name": "stdout",
          "text": [
            "\b\b\b\b\b\b\b\b\b\b\b\b\b\b\b\b\b\b\b\b\b\b\b\b\b\b\b\b\b\b\b\b\b\b\b\b\b\b\b\b\b\b\b\b\b\b\b\b\b\b\b\b\b\b\b\b\b\b\b\b\b\b\b\b\b\b\b\b\b\b\b\b\b\b\r\u001b[1m88/88\u001b[0m \u001b[32m━━━━━━━━━━━━━━━━━━━━\u001b[0m\u001b[37m\u001b[0m \u001b[1m43s\u001b[0m 210ms/step - accuracy: 0.6492 - loss: 0.6451 - val_accuracy: 0.6125 - val_loss: 0.6621\n",
            "Epoch 3/10\n",
            "\u001b[1m88/88\u001b[0m \u001b[32m━━━━━━━━━━━━━━━━━━━━\u001b[0m\u001b[37m\u001b[0m \u001b[1m0s\u001b[0m 187ms/step - accuracy: 0.7067 - loss: 0.6001"
          ]
        },
        {
          "output_type": "stream",
          "name": "stderr",
          "text": [
            "WARNING:absl:You are saving your model as an HDF5 file via `model.save()` or `keras.saving.save_model(model)`. This file format is considered legacy. We recommend using instead the native Keras format, e.g. `model.save('my_model.keras')` or `keras.saving.save_model(model, 'my_model.keras')`. \n"
          ]
        },
        {
          "output_type": "stream",
          "name": "stdout",
          "text": [
            "\b\b\b\b\b\b\b\b\b\b\b\b\b\b\b\b\b\b\b\b\b\b\b\b\b\b\b\b\b\b\b\b\b\b\b\b\b\b\b\b\b\b\b\b\b\b\b\b\b\b\b\b\b\b\b\b\b\b\b\b\b\b\b\b\b\b\b\b\b\b\b\b\b\b\r\u001b[1m88/88\u001b[0m \u001b[32m━━━━━━━━━━━━━━━━━━━━\u001b[0m\u001b[37m\u001b[0m \u001b[1m21s\u001b[0m 213ms/step - accuracy: 0.7068 - loss: 0.5999 - val_accuracy: 0.6687 - val_loss: 0.6110\n",
            "Epoch 4/10\n",
            "\u001b[1m88/88\u001b[0m \u001b[32m━━━━━━━━━━━━━━━━━━━━\u001b[0m\u001b[37m\u001b[0m \u001b[1m0s\u001b[0m 184ms/step - accuracy: 0.7503 - loss: 0.5312"
          ]
        },
        {
          "output_type": "stream",
          "name": "stderr",
          "text": [
            "WARNING:absl:You are saving your model as an HDF5 file via `model.save()` or `keras.saving.save_model(model)`. This file format is considered legacy. We recommend using instead the native Keras format, e.g. `model.save('my_model.keras')` or `keras.saving.save_model(model, 'my_model.keras')`. \n"
          ]
        },
        {
          "output_type": "stream",
          "name": "stdout",
          "text": [
            "\b\b\b\b\b\b\b\b\b\b\b\b\b\b\b\b\b\b\b\b\b\b\b\b\b\b\b\b\b\b\b\b\b\b\b\b\b\b\b\b\b\b\b\b\b\b\b\b\b\b\b\b\b\b\b\b\b\b\b\b\b\b\b\b\b\b\b\b\b\b\b\b\b\b\r\u001b[1m88/88\u001b[0m \u001b[32m━━━━━━━━━━━━━━━━━━━━\u001b[0m\u001b[37m\u001b[0m \u001b[1m22s\u001b[0m 226ms/step - accuracy: 0.7504 - loss: 0.5312 - val_accuracy: 0.7013 - val_loss: 0.5730\n",
            "Epoch 5/10\n",
            "\u001b[1m88/88\u001b[0m \u001b[32m━━━━━━━━━━━━━━━━━━━━\u001b[0m\u001b[37m\u001b[0m \u001b[1m0s\u001b[0m 182ms/step - accuracy: 0.7607 - loss: 0.5071"
          ]
        },
        {
          "output_type": "stream",
          "name": "stderr",
          "text": [
            "WARNING:absl:You are saving your model as an HDF5 file via `model.save()` or `keras.saving.save_model(model)`. This file format is considered legacy. We recommend using instead the native Keras format, e.g. `model.save('my_model.keras')` or `keras.saving.save_model(model, 'my_model.keras')`. \n"
          ]
        },
        {
          "output_type": "stream",
          "name": "stdout",
          "text": [
            "\b\b\b\b\b\b\b\b\b\b\b\b\b\b\b\b\b\b\b\b\b\b\b\b\b\b\b\b\b\b\b\b\b\b\b\b\b\b\b\b\b\b\b\b\b\b\b\b\b\b\b\b\b\b\b\b\b\b\b\b\b\b\b\b\b\b\b\b\b\b\b\b\b\b\r\u001b[1m88/88\u001b[0m \u001b[32m━━━━━━━━━━━━━━━━━━━━\u001b[0m\u001b[37m\u001b[0m \u001b[1m20s\u001b[0m 221ms/step - accuracy: 0.7608 - loss: 0.5070 - val_accuracy: 0.7188 - val_loss: 0.5517\n",
            "Epoch 6/10\n",
            "\u001b[1m88/88\u001b[0m \u001b[32m━━━━━━━━━━━━━━━━━━━━\u001b[0m\u001b[37m\u001b[0m \u001b[1m0s\u001b[0m 183ms/step - accuracy: 0.8182 - loss: 0.4409"
          ]
        },
        {
          "output_type": "stream",
          "name": "stderr",
          "text": [
            "WARNING:absl:You are saving your model as an HDF5 file via `model.save()` or `keras.saving.save_model(model)`. This file format is considered legacy. We recommend using instead the native Keras format, e.g. `model.save('my_model.keras')` or `keras.saving.save_model(model, 'my_model.keras')`. \n"
          ]
        },
        {
          "output_type": "stream",
          "name": "stdout",
          "text": [
            "\b\b\b\b\b\b\b\b\b\b\b\b\b\b\b\b\b\b\b\b\b\b\b\b\b\b\b\b\b\b\b\b\b\b\b\b\b\b\b\b\b\b\b\b\b\b\b\b\b\b\b\b\b\b\b\b\b\b\b\b\b\b\b\b\b\b\b\b\b\b\b\b\b\b\r\u001b[1m88/88\u001b[0m \u001b[32m━━━━━━━━━━━━━━━━━━━━\u001b[0m\u001b[37m\u001b[0m \u001b[1m20s\u001b[0m 223ms/step - accuracy: 0.8182 - loss: 0.4409 - val_accuracy: 0.7713 - val_loss: 0.4961\n",
            "Epoch 7/10\n",
            "\u001b[1m88/88\u001b[0m \u001b[32m━━━━━━━━━━━━━━━━━━━━\u001b[0m\u001b[37m\u001b[0m \u001b[1m0s\u001b[0m 184ms/step - accuracy: 0.8240 - loss: 0.4121"
          ]
        },
        {
          "output_type": "stream",
          "name": "stderr",
          "text": [
            "WARNING:absl:You are saving your model as an HDF5 file via `model.save()` or `keras.saving.save_model(model)`. This file format is considered legacy. We recommend using instead the native Keras format, e.g. `model.save('my_model.keras')` or `keras.saving.save_model(model, 'my_model.keras')`. \n"
          ]
        },
        {
          "output_type": "stream",
          "name": "stdout",
          "text": [
            "\b\b\b\b\b\b\b\b\b\b\b\b\b\b\b\b\b\b\b\b\b\b\b\b\b\b\b\b\b\b\b\b\b\b\b\b\b\b\b\b\b\b\b\b\b\b\b\b\b\b\b\b\b\b\b\b\b\b\b\b\b\b\b\b\b\b\b\b\b\b\b\b\b\b\r\u001b[1m88/88\u001b[0m \u001b[32m━━━━━━━━━━━━━━━━━━━━\u001b[0m\u001b[37m\u001b[0m \u001b[1m19s\u001b[0m 210ms/step - accuracy: 0.8241 - loss: 0.4120 - val_accuracy: 0.7825 - val_loss: 0.4762\n",
            "Epoch 8/10\n",
            "\u001b[1m88/88\u001b[0m \u001b[32m━━━━━━━━━━━━━━━━━━━━\u001b[0m\u001b[37m\u001b[0m \u001b[1m0s\u001b[0m 183ms/step - accuracy: 0.8459 - loss: 0.3771"
          ]
        },
        {
          "output_type": "stream",
          "name": "stderr",
          "text": [
            "WARNING:absl:You are saving your model as an HDF5 file via `model.save()` or `keras.saving.save_model(model)`. This file format is considered legacy. We recommend using instead the native Keras format, e.g. `model.save('my_model.keras')` or `keras.saving.save_model(model, 'my_model.keras')`. \n"
          ]
        },
        {
          "output_type": "stream",
          "name": "stdout",
          "text": [
            "\b\b\b\b\b\b\b\b\b\b\b\b\b\b\b\b\b\b\b\b\b\b\b\b\b\b\b\b\b\b\b\b\b\b\b\b\b\b\b\b\b\b\b\b\b\b\b\b\b\b\b\b\b\b\b\b\b\b\b\b\b\b\b\b\b\b\b\b\b\b\b\b\b\b\r\u001b[1m88/88\u001b[0m \u001b[32m━━━━━━━━━━━━━━━━━━━━\u001b[0m\u001b[37m\u001b[0m \u001b[1m20s\u001b[0m 224ms/step - accuracy: 0.8458 - loss: 0.3770 - val_accuracy: 0.8025 - val_loss: 0.4382\n",
            "Epoch 9/10\n",
            "\u001b[1m88/88\u001b[0m \u001b[32m━━━━━━━━━━━━━━━━━━━━\u001b[0m\u001b[37m\u001b[0m \u001b[1m0s\u001b[0m 184ms/step - accuracy: 0.8488 - loss: 0.3487"
          ]
        },
        {
          "output_type": "stream",
          "name": "stderr",
          "text": [
            "WARNING:absl:You are saving your model as an HDF5 file via `model.save()` or `keras.saving.save_model(model)`. This file format is considered legacy. We recommend using instead the native Keras format, e.g. `model.save('my_model.keras')` or `keras.saving.save_model(model, 'my_model.keras')`. \n"
          ]
        },
        {
          "output_type": "stream",
          "name": "stdout",
          "text": [
            "\b\b\b\b\b\b\b\b\b\b\b\b\b\b\b\b\b\b\b\b\b\b\b\b\b\b\b\b\b\b\b\b\b\b\b\b\b\b\b\b\b\b\b\b\b\b\b\b\b\b\b\b\b\b\b\b\b\b\b\b\b\b\b\b\b\b\b\b\b\b\b\b\b\b\r\u001b[1m88/88\u001b[0m \u001b[32m━━━━━━━━━━━━━━━━━━━━\u001b[0m\u001b[37m\u001b[0m \u001b[1m21s\u001b[0m 224ms/step - accuracy: 0.8489 - loss: 0.3486 - val_accuracy: 0.8138 - val_loss: 0.4203\n",
            "Epoch 10/10\n",
            "\u001b[1m88/88\u001b[0m \u001b[32m━━━━━━━━━━━━━━━━━━━━\u001b[0m\u001b[37m\u001b[0m \u001b[1m19s\u001b[0m 205ms/step - accuracy: 0.8966 - loss: 0.2929 - val_accuracy: 0.8075 - val_loss: 0.4286\n"
          ]
        }
      ]
    },
    {
      "cell_type": "code",
      "source": [
        "# Model Evaluation\n",
        "test_X, test_Y = preprocess_dataset(test_dataset)\n",
        "y_pred_probs = model.predict([test_X, test_X])\n",
        "y_pred = (y_pred_probs > 0.5).astype(\"int\")\n",
        "\n",
        "print(\"Classification Report:\\n\", classification_report(test_Y, y_pred))\n",
        "print(\"Confusion Matrix:\\n\", confusion_matrix(test_Y, y_pred))\n",
        "\n",
        "false_positives = np.sum((test_Y == 0) & (y_pred == 1))\n",
        "false_negatives = np.sum((test_Y == 1) & (y_pred == 0))\n",
        "print(f\"False Positives: {false_positives}, False Negatives: {false_negatives}\")"
      ],
      "metadata": {
        "colab": {
          "base_uri": "https://localhost:8080/"
        },
        "id": "xjguVu879hL9",
        "outputId": "7bd22306-51a6-487c-8f90-3155036392d0"
      },
      "execution_count": 9,
      "outputs": [
        {
          "output_type": "stream",
          "name": "stdout",
          "text": [
            "\u001b[1m13/13\u001b[0m \u001b[32m━━━━━━━━━━━━━━━━━━━━\u001b[0m\u001b[37m\u001b[0m \u001b[1m1s\u001b[0m 74ms/step\n",
            "Classification Report:\n",
            "               precision    recall  f1-score   support\n",
            "\n",
            "         0.0       0.78      0.81      0.79       200\n",
            "         1.0       0.80      0.77      0.78       200\n",
            "\n",
            "    accuracy                           0.79       400\n",
            "   macro avg       0.79      0.79      0.79       400\n",
            "weighted avg       0.79      0.79      0.79       400\n",
            "\n",
            "Confusion Matrix:\n",
            " [[161  39]\n",
            " [ 46 154]]\n",
            "False Positives: 39, False Negatives: 46\n"
          ]
        }
      ]
    },
    {
      "cell_type": "code",
      "source": [
        "import numpy as np\n",
        "import matplotlib.pyplot as plt\n",
        "from sklearn.metrics import confusion_matrix, classification_report, recall_score\n",
        "\n",
        "# ⬇️ Extract Train & Validation Accuracy from history\n",
        "train_acc = history.history['accuracy']\n",
        "val_acc = history.history['val_accuracy']\n",
        "\n",
        "# ⬇️ Plot Accuracy Graph\n",
        "plt.figure(figsize=(8, 5))\n",
        "plt.plot(train_acc, label='Train Accuracy', marker='o')\n",
        "plt.plot(val_acc, label='Validation Accuracy', marker='s')\n",
        "plt.xlabel(\"Epochs\")\n",
        "plt.ylabel(\"Accuracy\")\n",
        "plt.legend()\n",
        "plt.title(\"Train vs Validation Accuracy\")\n",
        "plt.show()\n"
      ],
      "metadata": {
        "colab": {
          "base_uri": "https://localhost:8080/",
          "height": 487
        },
        "id": "SikjnXFJc6V2",
        "outputId": "5c883220-de0e-4b5c-b69a-d664e49f996a"
      },
      "execution_count": 73,
      "outputs": [
        {
          "output_type": "display_data",
          "data": {
            "text/plain": [
              "<Figure size 800x500 with 1 Axes>"
            ],
            "image/png": "[encoded data removed]"
          },
          "metadata": {}
        }
      ]
    },
    {
      "cell_type": "code",
      "source": [
        "# ⬇️ Extract Train & Validation Loss from history\n",
        "train_loss = history.history['loss']\n",
        "val_loss = history.history['val_loss']\n",
        "\n",
        "# ⬇️ Plot Loss Graph\n",
        "plt.figure(figsize=(8, 5))\n",
        "plt.plot(train_loss, label='Train Loss', marker='o', color='red')\n",
        "plt.plot(val_loss, label='Validation Loss', marker='s', color='blue')\n",
        "plt.xlabel(\"Epochs\")\n",
        "plt.ylabel(\"Loss\")\n",
        "plt.legend()\n",
        "plt.title(\"Train vs Validation Loss\")\n",
        "plt.show()\n"
      ],
      "metadata": {
        "colab": {
          "base_uri": "https://localhost:8080/",
          "height": 487
        },
        "id": "RTJ4QU38dhGh",
        "outputId": "40ae8bdd-fdba-480d-a9d8-862253026c5c"
      },
      "execution_count": 74,
      "outputs": [
        {
          "output_type": "display_data",
          "data": {
            "text/plain": [
              "<Figure size 800x500 with 1 Axes>"
            ],
            "image/png": "[encoded data removed]"
          },
          "metadata": {}
        }
      ]
    },
    {
      "cell_type": "code",
      "source": [
        "import numpy as np\n",
        "import matplotlib.pyplot as plt\n",
        "from sklearn.metrics import confusion_matrix, classification_report, recall_score\n",
        "\n",
        "# ⬇️ Extract Train & Validation Accuracy from history\n",
        "train_acc = history.history['accuracy']\n",
        "val_acc = history.history['val_accuracy']\n",
        "\n",
        "# ⬇️ Plot Accuracy Graph\n",
        "plt.figure(figsize=(8, 5))\n",
        "plt.plot(train_acc, label='Train Accuracy', marker='o')\n",
        "plt.plot(val_acc, label='Validation Accuracy', marker='s')\n",
        "plt.xlabel(\"Epochs\")\n",
        "plt.ylabel(\"Accuracy\")\n",
        "plt.legend()\n",
        "plt.title(\"Train vs Validation Accuracy\")\n",
        "plt.show()\n"
      ],
      "metadata": {
        "id": "T06IStlhc-hd"
      },
      "execution_count": null,
      "outputs": []
    },
    {
      "cell_type": "code",
      "source": [
        "# Inference\n",
        "def predict_image(image_path):\n",
        "    image = preprocess_image(image_path)\n",
        "    probability = model.predict([image, image])[0, 0]\n",
        "    print(f\"Prediction Probability: {probability:.4f}\")\n",
        "    return \"FAKE\" if probability > 0.4982 else \"REAL\"\n",
        "\n",
        "unseen_image_path = \"/content/Alia_Bhatt,_Chennai_(cropped_2).jpg\"\n",
        "prediction = predict_image(unseen_image_path)\n",
        "print(\"Predicted Class:\", prediction)\n"
      ],
      "metadata": {
        "colab": {
          "base_uri": "https://localhost:8080/"
        },
        "id": "T9ZM7aPWY-Sm",
        "outputId": "c0904001-a39e-414a-b173-4391c8e8c414"
      },
      "execution_count": 32,
      "outputs": [
        {
          "output_type": "stream",
          "name": "stdout",
          "text": [
            "\u001b[1m1/1\u001b[0m \u001b[32m━━━━━━━━━━━━━━━━━━━━\u001b[0m\u001b[37m\u001b[0m \u001b[1m0s\u001b[0m 44ms/step\n",
            "Prediction Probability: 0.4971\n",
            "Predicted Class: REAL\n"
          ]
        }
      ]
    },
    {
      "cell_type": "code",
      "source": [
        "unseen_image_path = \"/content/drive/MyDrive/Major_Project/dataset_part-r/test/fake/easy_123_0100.jpg\"\n",
        "prediction = predict_image(unseen_image_path)\n",
        "print(\"Predicted Class:\", prediction)"
      ],
      "metadata": {
        "colab": {
          "base_uri": "https://localhost:8080/"
        },
        "id": "dJv5Qn0bX5dt",
        "outputId": "5d7ce615-6a8b-4d1c-9b20-7763c378a2da"
      },
      "execution_count": 34,
      "outputs": [
        {
          "output_type": "stream",
          "name": "stdout",
          "text": [
            "\u001b[1m1/1\u001b[0m \u001b[32m━━━━━━━━━━━━━━━━━━━━\u001b[0m\u001b[37m\u001b[0m \u001b[1m0s\u001b[0m 68ms/step\n",
            "Prediction Probability: 0.4985\n",
            "Predicted Class: FAKE\n"
          ]
        }
      ]
    },
    {
      "cell_type": "code",
      "source": [
        "unseen_image_path = \"/content/drive/MyDrive/Major_Project/dataset_part-r/test/fake/easy_142_1111.jpg\"\n",
        "prediction = predict_image(unseen_image_path)\n",
        "print(\"Predicted Class:\", prediction)"
      ],
      "metadata": {
        "colab": {
          "base_uri": "https://localhost:8080/"
        },
        "id": "qm8LJYQxamll",
        "outputId": "b54f5914-8e08-4628-b755-aa804bd6c356"
      },
      "execution_count": 35,
      "outputs": [
        {
          "output_type": "stream",
          "name": "stdout",
          "text": [
            "\u001b[1m1/1\u001b[0m \u001b[32m━━━━━━━━━━━━━━━━━━━━\u001b[0m\u001b[37m\u001b[0m \u001b[1m0s\u001b[0m 81ms/step\n",
            "Prediction Probability: 0.4985\n",
            "Predicted Class: FAKE\n"
          ]
        }
      ]
    },
    {
      "cell_type": "code",
      "source": [
        "unseen_image_path = \"/content/0068-ajay-devgn.jpg\"\n",
        "prediction = predict_image(unseen_image_path)\n",
        "print(\"Predicted Class:\", prediction)"
      ],
      "metadata": {
        "colab": {
          "base_uri": "https://localhost:8080/"
        },
        "id": "0bi1YUULasfV",
        "outputId": "dac78707-af36-4bf3-8911-fcf4b113c93b"
      },
      "execution_count": 38,
      "outputs": [
        {
          "output_type": "stream",
          "name": "stdout",
          "text": [
            "\u001b[1m1/1\u001b[0m \u001b[32m━━━━━━━━━━━━━━━━━━━━\u001b[0m\u001b[37m\u001b[0m \u001b[1m0s\u001b[0m 110ms/step\n",
            "Prediction Probability: 0.4962\n",
            "Predicted Class: REAL\n"
          ]
        }
      ]
    },
    {
      "cell_type": "code",
      "source": [
        "unseen_image_path = \"/content/Fake_image.png\"\n",
        "prediction = predict_image(unseen_image_path)\n",
        "print(\"Predicted Class:\", prediction)"
      ],
      "metadata": {
        "colab": {
          "base_uri": "https://localhost:8080/"
        },
        "id": "yYWZJrhybeaj",
        "outputId": "f57ac28f-2835-4a3a-bf1d-124b40312953"
      },
      "execution_count": 71,
      "outputs": [
        {
          "output_type": "stream",
          "name": "stdout",
          "text": [
            "\u001b[1m1/1\u001b[0m \u001b[32m━━━━━━━━━━━━━━━━━━━━\u001b[0m\u001b[37m\u001b[0m \u001b[1m0s\u001b[0m 39ms/step\n",
            "Prediction Probability: 0.4972\n",
            "Predicted Class: REAL\n"
          ]
        }
      ]
    },
    {
      "cell_type": "code",
      "source": [
        "unseen_image_path = \"/content/drive/MyDrive/Major_Project/dataset/real/real_00011.jpg\"\n",
        "prediction = predict_image(unseen_image_path)\n",
        "print(\"Predicted Class:\", prediction)"
      ],
      "metadata": {
        "colab": {
          "base_uri": "https://localhost:8080/"
        },
        "id": "YQ3cq9hFcUyU",
        "outputId": "bb9dedc3-54ad-414d-fc0d-60e41e52aebe"
      },
      "execution_count": 67,
      "outputs": [
        {
          "output_type": "stream",
          "name": "stdout",
          "text": [
            "\u001b[1m1/1\u001b[0m \u001b[32m━━━━━━━━━━━━━━━━━━━━\u001b[0m\u001b[37m\u001b[0m \u001b[1m0s\u001b[0m 40ms/step\n",
            "Prediction Probability: 0.4966\n",
            "Predicted Class: REAL\n"
          ]
        }
      ]
    }
  ]
}